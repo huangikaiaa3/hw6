{
 "cells": [
  {
   "cell_type": "code",
   "execution_count": 4,
   "metadata": {},
   "outputs": [
    {
     "name": "stdout",
     "output_type": "stream",
     "text": [
      "1 is a Fibonacci Number\n",
      "2 is a Fibonacci Number\n",
      "3 is a Fibonacci Number\n",
      "4 is a not Fibonacci Number \n",
      "5 is a Fibonacci Number\n",
      "6 is a not Fibonacci Number \n",
      "7 is a not Fibonacci Number \n",
      "8 is a Fibonacci Number\n",
      "9 is a not Fibonacci Number \n",
      "10 is a not Fibonacci Number \n"
     ]
    }
   ],
   "source": [
    "#看數字是不是Fibonacci數列的數字\n",
    "import math \n",
    "\n",
    "def isPerfectSquare(x): \n",
    "    s = int(math.sqrt(x)) \n",
    "    return s*s == x \n",
    "  \n",
    "def isFibonacci(n): \n",
    "    return isPerfectSquare(5*n*n + 4) or isPerfectSquare(5*n*n - 4) \n",
    "     \n",
    "for i in range(1,11): \n",
    "    if (isFibonacci(i) == True): \n",
    "        print(i,\"is a Fibonacci Number\")\n",
    "    else: \n",
    "        print(i,\"is a not Fibonacci Number \")"
   ]
  }
 ],
 "metadata": {
  "kernelspec": {
   "display_name": "Python 3",
   "language": "python",
   "name": "python3"
  },
  "language_info": {
   "codemirror_mode": {
    "name": "ipython",
    "version": 3
   },
   "file_extension": ".py",
   "mimetype": "text/x-python",
   "name": "python",
   "nbconvert_exporter": "python",
   "pygments_lexer": "ipython3",
   "version": "3.6.4"
  }
 },
 "nbformat": 4,
 "nbformat_minor": 2
}
